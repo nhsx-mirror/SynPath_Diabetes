{
 "cells": [
  {
   "cell_type": "markdown",
   "metadata": {},
   "source": [
    "# `PatientAgent` demo notebook\n",
    "\n",
    "In this notebook we introduce the patient agent and its methods including:\n",
    "- initializing with comorbidities\n",
    "- adding properties to conditions, such as severity\n",
    "- updating the patient record\n",
    "- the patient record internal reprsentation and converting to FHIR"
   ]
  },
  {
   "cell_type": "code",
   "execution_count": null,
   "metadata": {},
   "outputs": [],
   "source": [
    "%load_ext autoreload\n",
    "%autoreload 2"
   ]
  },
  {
   "cell_type": "code",
   "execution_count": null,
   "metadata": {},
   "outputs": [],
   "source": [
    "import os\n",
    "from pathlib import Path\n",
    "\n",
    "PATIENT_ABM_DIR = Path(os.getcwd()).parent\n",
    "PATIENT_ABM_DIR"
   ]
  },
  {
   "cell_type": "code",
   "execution_count": null,
   "metadata": {},
   "outputs": [],
   "source": [
    "%env PATIENT_ABM_DIR={str(PATIENT_ABM_DIR)}"
   ]
  },
  {
   "cell_type": "code",
   "execution_count": null,
   "metadata": {},
   "outputs": [],
   "source": [
    "# !pyreverse $PATIENT_ABM_DIR/src/patient_abm/agent/patient.py\n",
    "# !dot -Tpng classes.dot -o classes.png"
   ]
  },
  {
   "cell_type": "code",
   "execution_count": null,
   "metadata": {},
   "outputs": [],
   "source": [
    "import copy\n",
    "import datetime\n",
    "import json\n",
    "import pprint\n",
    "from dataclasses import asdict\n",
    "\n",
    "from IPython.display import Image\n",
    "\n",
    "from patient_abm.agent.patient import (\n",
    "    PatientAgent, PatientRecordEntry, wrap_fhir_resource\n",
    ")\n",
    "from patient_abm.data_handler.fhir import (\n",
    "    convert_patient_record_entry_to_fhir,\n",
    "    generate_patient_fhir_resources,\n",
    "    generate_patient_fhir_bundle,\n",
    "    HAPI_FHIR_SERVER_4,\n",
    ")\n",
    "from patient_abm.utils import string_to_datetime"
   ]
  },
  {
   "cell_type": "markdown",
   "metadata": {},
   "source": [
    "# Patient agent UML"
   ]
  },
  {
   "source": [
    "Image(\"classes.png\")"
   ],
   "cell_type": "markdown",
   "metadata": {}
  },
  {
   "cell_type": "markdown",
   "metadata": {},
   "source": [
    "# Initialise patient agent"
   ]
  },
  {
   "cell_type": "markdown",
   "metadata": {},
   "source": [
    "Below is the minimal input required to initialise a patient. `patient_id`, `gender` and `birth_date` are mandatory parameters."
   ]
  },
  {
   "cell_type": "code",
   "execution_count": null,
   "metadata": {},
   "outputs": [],
   "source": [
    "patient_id = \"my-patient-0\" # can be an integer or string, no underscores (for FHIR compliancy)\n",
    "gender = \"female\" # must be either 'male' or 'female'\n",
    "birth_date = \"1985-05-24\" # can be datetime string or datetime type "
   ]
  },
  {
   "cell_type": "code",
   "execution_count": null,
   "metadata": {},
   "outputs": [],
   "source": [
    "patient = PatientAgent(\n",
    "    patient_id=patient_id,\n",
    "    gender=gender,\n",
    "    birth_date=birth_date,\n",
    ")"
   ]
  },
  {
   "cell_type": "markdown",
   "metadata": {},
   "source": [
    "Many things happen during initialisation"
   ]
  },
  {
   "cell_type": "markdown",
   "metadata": {},
   "source": [
    "The inputs get assigned as attributes, and `birth_date` is converted to datetime."
   ]
  },
  {
   "cell_type": "code",
   "execution_count": null,
   "metadata": {},
   "outputs": [],
   "source": [
    "patient.patient_id, patient.gender, patient.birth_date"
   ]
  },
  {
   "cell_type": "markdown",
   "metadata": {},
   "source": [
    "### Datetime timezones"
   ]
  },
  {
   "cell_type": "markdown",
   "metadata": {},
   "source": [
    "Throughout the codebase, datetimes are timezone aware and a UTC timezone is chosen by default. This is so that datetimes are FHIR compliant https://www.hl7.org/fhir/datatypes.html#dateTime\n",
    "\n",
    "Time zones are added automatically. If a different time zone is required, some work will need to be done to expose the time zone as a parameter and allow the user to change it. To see where timezones are being set, search for `tz` in the `patient_abm` codebase."
   ]
  },
  {
   "cell_type": "markdown",
   "metadata": {},
   "source": [
    "### The base `Agent` class"
   ]
  },
  {
   "cell_type": "markdown",
   "metadata": {},
   "source": [
    "The `PatientAgent` class is a subclass of `Agent`."
   ]
  },
  {
   "cell_type": "code",
   "execution_count": null,
   "metadata": {},
   "outputs": [],
   "source": [
    "patient.__class__.__bases__[0]"
   ]
  },
  {
   "cell_type": "markdown",
   "metadata": {},
   "source": [
    "This means that it has an internal unique `id` and `created_at` timestamp which gets automatically set, and you can see the values in the string representation of `patient`"
   ]
  },
  {
   "cell_type": "code",
   "execution_count": null,
   "metadata": {},
   "outputs": [],
   "source": [
    "patient"
   ]
  },
  {
   "cell_type": "code",
   "execution_count": null,
   "metadata": {},
   "outputs": [],
   "source": [
    "patient.id, patient.created_at"
   ]
  },
  {
   "cell_type": "markdown",
   "metadata": {},
   "source": [
    "In future, a more patient-specific `PatientAgent.__repr__` could be implemented."
   ]
  },
  {
   "cell_type": "markdown",
   "metadata": {},
   "source": [
    "### The patient `record` and `PatientRecordEntry`"
   ]
  },
  {
   "cell_type": "markdown",
   "metadata": {},
   "source": [
    "A `patient` has an attribute called `record` which represents its health record. The `record` is a python list. Each item in the list is called an \"entry\", and it is an abstraction of a FHIR resource. The `record` gets appended to over the course of a simulation.\n",
    "\n",
    "An entry is an instance of a `PatientRecordEntry` dataclass. This dataclass has a number of attributes:\n",
    "\n",
    "  - `real_time`: the real datetime when the entry was generated\n",
    "  - `patient_time`: the datetime from the patient's perspective when the entry was generated\n",
    "  - `environment_id`: if an entry was added during the simulation, then this is the ID of the environment that that patient was interacting with when the entry was generated\n",
    "  - `interactions`: the names of interaction functions that were applied when the patient was interacting with the environment (the intelligence layer in a single simulation step could apply multiple interactions)\n",
    "  - `simulation_step`: the step of the simulation generating this entry. In a single step, multiple entries might be generated, so this groups them together\n",
    "  - `fhir_resource_time`: ***!!!TO BE REMOVED!!!***\n",
    "  - `fhir_resource_type`: the FHIR resource type of the entry\n",
    "  - `fhir_resource`: raw FHIR resource data\n",
    "  - `record_index`: the index in the record list\n",
    "  - `entry_id`: an ID for the entry\n",
    "  - `tag`: a name for the entry - can be used as a human readable way to search the record for multiple related entries\n",
    "  - `entry`: the actual content of the entry, a dictionary which is an abstraction of a FHIR resource"
   ]
  },
  {
   "cell_type": "markdown",
   "metadata": {},
   "source": [
    "This `patient` record has a single entry which is just the patient's demographics"
   ]
  },
  {
   "cell_type": "code",
   "execution_count": null,
   "metadata": {},
   "outputs": [],
   "source": [
    "patient.record"
   ]
  },
  {
   "cell_type": "markdown",
   "metadata": {},
   "source": [
    "It is a little easier to see using the dataclasses function asdict"
   ]
  },
  {
   "cell_type": "code",
   "execution_count": null,
   "metadata": {},
   "outputs": [],
   "source": [
    "asdict(patient.record[0])"
   ]
  },
  {
   "cell_type": "markdown",
   "metadata": {},
   "source": [
    "### The patient `profile`"
   ]
  },
  {
   "cell_type": "markdown",
   "metadata": {},
   "source": [
    "The first record entry is special and it always the patient demographics. In fact the first entry is assigned to the patient profile attribute"
   ]
  },
  {
   "cell_type": "code",
   "execution_count": null,
   "metadata": {},
   "outputs": [],
   "source": [
    "patient.profile == patient.record[0]"
   ]
  },
  {
   "cell_type": "code",
   "execution_count": null,
   "metadata": {
    "scrolled": true
   },
   "outputs": [],
   "source": [
    "asdict(patient.profile)"
   ]
  },
  {
   "cell_type": "markdown",
   "metadata": {},
   "source": [
    "Note that `'fhir_resource_type': 'Patient'`, i.e. this is supposed to correspond to a FHIR Patient resource."
   ]
  },
  {
   "cell_type": "markdown",
   "metadata": {},
   "source": [
    "### Modifying the patient profile and the `kwargs` argument"
   ]
  },
  {
   "cell_type": "markdown",
   "metadata": {},
   "source": [
    "How can more data be added to the patient profile? Suppose we wanted to add `age` as an attribue to the patient. Currently it is not"
   ]
  },
  {
   "cell_type": "code",
   "execution_count": null,
   "metadata": {},
   "outputs": [],
   "source": [
    "patient.age"
   ]
  },
  {
   "cell_type": "markdown",
   "metadata": {},
   "source": [
    "The `PatientAgent` init method accepts keyword arguments, which get set as attributes."
   ]
  },
  {
   "cell_type": "code",
   "execution_count": null,
   "metadata": {},
   "outputs": [],
   "source": [
    "patient = PatientAgent(\n",
    "    patient_id=patient_id,\n",
    "    gender=gender,\n",
    "    birth_date=birth_date,\n",
    "    age=65,\n",
    ")"
   ]
  },
  {
   "cell_type": "code",
   "execution_count": null,
   "metadata": {},
   "outputs": [],
   "source": [
    "patient.age"
   ]
  },
  {
   "cell_type": "markdown",
   "metadata": {},
   "source": [
    "This enables flexible setting of new patient attributes, and it can even be done on the fly from the configuration script `config.json`.\n",
    "\n",
    "Does `age` get added to the patient profile, or equivalently, its record?"
   ]
  },
  {
   "cell_type": "code",
   "execution_count": null,
   "metadata": {},
   "outputs": [],
   "source": [
    "# asdict(patient.profile)\n",
    "# we expect to see it in patient.profile.entry\n",
    "patient.profile.entry"
   ]
  },
  {
   "cell_type": "markdown",
   "metadata": {},
   "source": [
    "There is no age.\n",
    "\n",
    "In order to instruct the init method to add an attribute to the patient profile, and therefore the record, the prefix `patient__` must be used."
   ]
  },
  {
   "cell_type": "code",
   "execution_count": null,
   "metadata": {},
   "outputs": [],
   "source": [
    "patient = PatientAgent(\n",
    "    patient_id=patient_id,\n",
    "    gender=gender,\n",
    "    birth_date=birth_date,\n",
    "    patient__age=65,\n",
    ")"
   ]
  },
  {
   "cell_type": "code",
   "execution_count": null,
   "metadata": {},
   "outputs": [],
   "source": [
    "patient.profile.entry"
   ]
  },
  {
   "cell_type": "markdown",
   "metadata": {},
   "source": [
    "Now it is there without the prefix, and in the record"
   ]
  },
  {
   "cell_type": "code",
   "execution_count": null,
   "metadata": {},
   "outputs": [],
   "source": [
    "patient.record[0].entry"
   ]
  },
  {
   "cell_type": "markdown",
   "metadata": {},
   "source": [
    "For bookkeeping, it is also added as an attribute (but with the prefix)"
   ]
  },
  {
   "cell_type": "code",
   "execution_count": null,
   "metadata": {},
   "outputs": [],
   "source": [
    "patient.patient__age"
   ]
  },
  {
   "cell_type": "code",
   "execution_count": null,
   "metadata": {},
   "outputs": [],
   "source": [
    "patient.age"
   ]
  },
  {
   "cell_type": "markdown",
   "metadata": {},
   "source": [
    "### Converting the patient `record` to a FHIR resource"
   ]
  },
  {
   "cell_type": "markdown",
   "metadata": {},
   "source": [
    "Since the patient record is the object that gets converted to a FHIR resource later, adding fields in like this could be useful if we wanted to add extensions to the FHIR Patient resource, such as ethinicity. Note that, while currently it is possible to add these additional fields on the fly, they won't actually be included in the FHIR converted resource, this is because we are only selecting specific fields to convert to FHIR so that passes validation. We leave more flexible conversions for a future version (it would involve making changes to the `convert_patient_record_entry_to_fhir` function in the `patient_abm.data_handler.fhir` module)\n",
    "\n",
    "To see how this looks when converted to FHIR:"
   ]
  },
  {
   "cell_type": "code",
   "execution_count": null,
   "metadata": {},
   "outputs": [],
   "source": [
    "fhir_resource = convert_patient_record_entry_to_fhir(patient.record[0], patient)"
   ]
  },
  {
   "cell_type": "code",
   "execution_count": null,
   "metadata": {},
   "outputs": [],
   "source": [
    "# original\n",
    "patient.record[0].entry"
   ]
  },
  {
   "cell_type": "code",
   "execution_count": null,
   "metadata": {},
   "outputs": [],
   "source": [
    "# converted\n",
    "fhir_resource"
   ]
  },
  {
   "cell_type": "markdown",
   "metadata": {},
   "source": [
    "Notice that age has been removed, as stated above."
   ]
  },
  {
   "cell_type": "markdown",
   "metadata": {},
   "source": [
    "There is still a way to include additional data to the FHIR output, and that is the role of the `fhir_resource` field in `PatientRecordEntry`. For instance, suppose we wanted to add an contact information to the patient profile resource:"
   ]
  },
  {
   "cell_type": "code",
   "execution_count": null,
   "metadata": {},
   "outputs": [],
   "source": [
    "# snippet copied from https://www.hl7.org/fhir/patient-example.json.html\n",
    "contact = {\n",
    "    \"telecom\": [\n",
    "        {\n",
    "            \"system\": \"phone\",\n",
    "            \"value\": \"(03) 5555 6473\",\n",
    "            \"use\": \"work\",\n",
    "            \"rank\": 1\n",
    "        }\n",
    "    ]\n",
    "}"
   ]
  },
  {
   "cell_type": "markdown",
   "metadata": {},
   "source": [
    "Currently the only way to add this to the `fhir_resource` field of the patient profile is to add it after initialising the patient:"
   ]
  },
  {
   "cell_type": "code",
   "execution_count": null,
   "metadata": {},
   "outputs": [],
   "source": [
    "patient.record[0].fhir_resource = contact"
   ]
  },
  {
   "cell_type": "code",
   "execution_count": null,
   "metadata": {},
   "outputs": [],
   "source": [
    "patient.record[0]"
   ]
  },
  {
   "cell_type": "markdown",
   "metadata": {},
   "source": [
    "Now when we call `convert_patient_record_entry_to_fhir`, it will first generate the FHIR resource from `a = patient.record[0].entry`, and then combine that with `b = patient.record[0].fhir_resource`, i.e. the output is `{**a, **b}`"
   ]
  },
  {
   "cell_type": "code",
   "execution_count": null,
   "metadata": {},
   "outputs": [],
   "source": [
    "convert_patient_record_entry_to_fhir(patient.record[0], patient)"
   ]
  },
  {
   "cell_type": "markdown",
   "metadata": {},
   "source": [
    "In this case the output was as expected because the joining `{**a, **b}` was simple. In general though, care needs to be taken because the operation might lead to unintended results. We are highlighting this now but leave more complex conversions for future work."
   ]
  },
  {
   "cell_type": "markdown",
   "metadata": {},
   "source": [
    "### The `start_time`, `name`, `alive`, and `inpatient` attributes"
   ]
  },
  {
   "cell_type": "markdown",
   "metadata": {},
   "source": [
    "These attributes are automatically set."
   ]
  },
  {
   "cell_type": "code",
   "execution_count": null,
   "metadata": {},
   "outputs": [],
   "source": [
    "print(patient.start_time) # set to created_at by default\n",
    "print(patient.name) # set to patient_id by default\n",
    "print(patient.alive) # set to True by default\n",
    "print(patient.inpatient) # set to None by default"
   ]
  },
  {
   "cell_type": "markdown",
   "metadata": {},
   "source": [
    "Alternatively, they can be set to custom values when initialising the patient agent"
   ]
  },
  {
   "cell_type": "code",
   "execution_count": null,
   "metadata": {},
   "outputs": [],
   "source": [
    "patient = PatientAgent(\n",
    "    patient_id=patient_id,\n",
    "    gender=gender,\n",
    "    birth_date=birth_date,\n",
    "    start_time=\"2020/05/01\",\n",
    "    name=\"Sarah\",\n",
    ")"
   ]
  },
  {
   "cell_type": "code",
   "execution_count": null,
   "metadata": {},
   "outputs": [],
   "source": [
    "patient.start_time, patient.name"
   ]
  },
  {
   "cell_type": "markdown",
   "metadata": {},
   "source": [
    "`start_time` is the time in patient-perspective when their pathway starts. It is sets the `patient_time` value in the first record entry (i.e. patient profile) (above this was the same as created_at)"
   ]
  },
  {
   "cell_type": "code",
   "execution_count": null,
   "metadata": {},
   "outputs": [],
   "source": [
    "patient.profile.patient_time"
   ]
  },
  {
   "cell_type": "markdown",
   "metadata": {},
   "source": [
    "The patient name does not get added to the profile"
   ]
  },
  {
   "cell_type": "code",
   "execution_count": null,
   "metadata": {},
   "outputs": [],
   "source": [
    "patient.profile.entry"
   ]
  },
  {
   "cell_type": "markdown",
   "metadata": {},
   "source": [
    "This could be added in future, and then the name could also appear in the converted FHIR resource. Though note that names in FHIR Patient resource are very structured\n",
    "```\n",
    "\"name\" = [\n",
    "    {\n",
    "        \"use\": \"official\",\n",
    "        \"family\": \"Chalmers\",\n",
    "        \"given\": [\n",
    "            \"Peter\",\n",
    "            \"James\"\n",
    "        ]\n",
    "    }\n",
    "]\n",
    "```\n",
    "so this mapping would need to be added"
   ]
  },
  {
   "cell_type": "markdown",
   "metadata": {},
   "source": [
    "The `alive` attribute is a boolean which gets starts as True by default, but gets set to False if the patient `death` interaction is applied (see `patient_abm.intelligence.interactions.default.death`, and note that this function also adds the death date to the patient profile, which gets converted to `deceasedDate` in the FHIR Patient resource). This bool is checked at every step of the simulation (see `patient_abm.simulation.run.run_patient_simulation`) and terminates the simulation if is it False. "
   ]
  },
  {
   "cell_type": "markdown",
   "metadata": {},
   "source": [
    "If the patient is an inpatient it could greatly affect the dynamics of the simulation and the pathway. The `inpatient` attribute is currently a placeholder, and could be used in the simulation to hold information about whether the patient is an inpatient. E.g. if patient is not an inpatient, then `patient.inpatient = None`, otherwise:\n",
    "\n",
    "`patient.inpatient = {\"time_admitted\": \"xxx\", \"location\": \"xxx\"}`\n",
    "\n",
    "We leave the specifics to be developed further in the future."
   ]
  },
  {
   "cell_type": "markdown",
   "metadata": {},
   "source": [
    "### The `conditions`, `medications`, and `actions` attributes"
   ]
  },
  {
   "cell_type": "markdown",
   "metadata": {},
   "source": [
    "The conditions attributes table tracks patient conditions such as diseases.\n",
    "\n",
    "The medications table tracks patient medications.\n",
    "\n",
    "The actions table tracks outsanding patient actions such as scheduled appointments.\n",
    "\n",
    "These attributes are represented as pandas dataframes, and will currently be empty"
   ]
  },
  {
   "cell_type": "code",
   "execution_count": null,
   "metadata": {},
   "outputs": [],
   "source": [
    "patient.conditions"
   ]
  },
  {
   "cell_type": "code",
   "execution_count": null,
   "metadata": {},
   "outputs": [],
   "source": [
    "patient.medications"
   ]
  },
  {
   "cell_type": "code",
   "execution_count": null,
   "metadata": {},
   "outputs": [],
   "source": [
    "patient.actions"
   ]
  },
  {
   "cell_type": "markdown",
   "metadata": {},
   "source": [
    "### Adding new attributes to the tables, e.g. adding severity to the conditions table"
   ]
  },
  {
   "cell_type": "markdown",
   "metadata": {},
   "source": [
    "The tables come with predefined columns, however it is easy to add custom columns. For example, suppowe wanted to add \"severity\" to the conditions table. There is an argument called\n",
    "`conditions_custom_fields` where we can list new column names:"
   ]
  },
  {
   "cell_type": "code",
   "execution_count": null,
   "metadata": {},
   "outputs": [],
   "source": [
    "patient = PatientAgent(\n",
    "    patient_id=patient_id,\n",
    "    gender=gender,\n",
    "    birth_date=birth_date,\n",
    "    conditions_custom_fields=[\"severity\"],\n",
    ")"
   ]
  },
  {
   "cell_type": "code",
   "execution_count": null,
   "metadata": {},
   "outputs": [],
   "source": [
    "# severity is added\n",
    "patient.conditions"
   ]
  },
  {
   "cell_type": "markdown",
   "metadata": {},
   "source": [
    "Similarly there are `medications_custom_fields` and `actions_custom_fields`"
   ]
  },
  {
   "cell_type": "markdown",
   "metadata": {},
   "source": [
    "The columns that appear by default are:"
   ]
  },
  {
   "cell_type": "code",
   "execution_count": null,
   "metadata": {},
   "outputs": [],
   "source": [
    "for attr_name in [\"conditions\", \"medications\", \"actions\"]:\n",
    "    print(f\"Default {attr_name} columns:\")\n",
    "    print(\n",
    "        PatientAgent._core_dataframe_fields \n",
    "        + PatientAgent._dataframe_attributes_to_kwargs[attr_name][\"additional_core_fields\"]\n",
    "    )\n",
    "    print()"
   ]
  },
  {
   "cell_type": "markdown",
   "metadata": {},
   "source": [
    "These tables can be populated in two ways:\n",
    "\n",
    "(1) A non-empty table can be supplied during initialisation\n",
    "\n",
    "(2) When a patient's record gets updated / appended, these tables also get updated"
   ]
  },
  {
   "cell_type": "markdown",
   "metadata": {},
   "source": [
    "Let's talk about (1) first, in the context of initialising a patient with comorbities."
   ]
  },
  {
   "cell_type": "markdown",
   "metadata": {},
   "source": [
    "### Initialising a patient with comorbidities"
   ]
  },
  {
   "cell_type": "markdown",
   "metadata": {},
   "source": [
    "Suppose the patient has two active comorbidities: diabetes and underactive thyroid. For each we need to supply a name and the start date of the disease"
   ]
  },
  {
   "cell_type": "code",
   "execution_count": null,
   "metadata": {},
   "outputs": [],
   "source": [
    "diabetes = {\n",
    "    \"name\": \"diabetes\",\n",
    "    \"start\": \"2015-09-24\",\n",
    "}\n",
    "underactive_thyroid = {\n",
    "    \"name\": \"underactive_thyroid\",\n",
    "    \"start\": \"2019-07-18\",\n",
    "}"
   ]
  },
  {
   "cell_type": "code",
   "execution_count": null,
   "metadata": {},
   "outputs": [],
   "source": [
    "comorbidities = [diabetes, underactive_thyroid]"
   ]
  },
  {
   "cell_type": "markdown",
   "metadata": {},
   "source": [
    "`comorbidities` can be supplied as a list of dictionaries to the patient agent constructor as the conditions argument."
   ]
  },
  {
   "cell_type": "code",
   "execution_count": null,
   "metadata": {},
   "outputs": [],
   "source": [
    "patient = PatientAgent(\n",
    "    patient_id=patient_id,\n",
    "    gender=gender,\n",
    "    birth_date=birth_date,\n",
    "    conditions=comorbidities,\n",
    ")"
   ]
  },
  {
   "cell_type": "markdown",
   "metadata": {},
   "source": [
    "The conditions get loaded into the table and the extra columns are added. Notice that `active` is set to True. This is because the diseases have no end date "
   ]
  },
  {
   "cell_type": "code",
   "execution_count": null,
   "metadata": {},
   "outputs": [],
   "source": [
    "patient.conditions"
   ]
  },
  {
   "cell_type": "markdown",
   "metadata": {},
   "source": [
    "We could also add extra severity column manually"
   ]
  },
  {
   "cell_type": "code",
   "execution_count": null,
   "metadata": {},
   "outputs": [],
   "source": [
    "patient = PatientAgent(\n",
    "    patient_id=patient_id,\n",
    "    gender=gender,\n",
    "    birth_date=birth_date,\n",
    "    conditions=comorbidities,\n",
    "    conditions_custom_fields=[\"severity\"],\n",
    ")"
   ]
  },
  {
   "cell_type": "code",
   "execution_count": null,
   "metadata": {},
   "outputs": [],
   "source": [
    "patient.conditions"
   ]
  },
  {
   "cell_type": "markdown",
   "metadata": {},
   "source": [
    "Or implicitly by including it in a comorbidity"
   ]
  },
  {
   "cell_type": "code",
   "execution_count": null,
   "metadata": {},
   "outputs": [],
   "source": [
    "diabetes[\"severity\"] = \"high\""
   ]
  },
  {
   "cell_type": "code",
   "execution_count": null,
   "metadata": {},
   "outputs": [],
   "source": [
    "comorbidities"
   ]
  },
  {
   "cell_type": "code",
   "execution_count": null,
   "metadata": {},
   "outputs": [],
   "source": [
    "patient = PatientAgent(\n",
    "    patient_id=patient_id,\n",
    "    gender=gender,\n",
    "    birth_date=birth_date,\n",
    "    conditions=comorbidities,\n",
    ")"
   ]
  },
  {
   "cell_type": "code",
   "execution_count": null,
   "metadata": {},
   "outputs": [],
   "source": [
    "patient.conditions"
   ]
  },
  {
   "cell_type": "markdown",
   "metadata": {},
   "source": [
    "A condition becomes inactive if the \"end\" date is a date (i.e. a timestamp for when the patient recovers from the disease, assumed to be in the \"past\" of the patient's \"current time\"). It's best to see this in action by updating the patient record.\n",
    "\n",
    "Let's first have a look at the current record"
   ]
  },
  {
   "cell_type": "code",
   "execution_count": null,
   "metadata": {},
   "outputs": [],
   "source": [
    "patient.record"
   ]
  },
  {
   "cell_type": "markdown",
   "metadata": {},
   "source": [
    "Note that currently these conditions are not added as record entries (this could be changed in the future if required).\n",
    "\n",
    "Instead let's add a record entry that signifies a recovery from diabetes"
   ]
  },
  {
   "cell_type": "code",
   "execution_count": null,
   "metadata": {},
   "outputs": [],
   "source": [
    "diabetes[\"end\"] = \"2021-03-24\"\n",
    "diabetes"
   ]
  },
  {
   "cell_type": "markdown",
   "metadata": {},
   "source": [
    "In summary, a patient can be initialised with comorbidities by creating a list or dataframe of diseases, with at least name and start columns, and then passing this to the PatientAgent init method."
   ]
  },
  {
   "cell_type": "markdown",
   "metadata": {},
   "source": [
    "### Updating the patient record"
   ]
  },
  {
   "cell_type": "markdown",
   "metadata": {},
   "source": [
    "We can update the patient record with this entry. Each new entry must have at least `name`, `start` fields as well as `resource_type`. The disease entries are resource type Condition. Adding that:"
   ]
  },
  {
   "cell_type": "code",
   "execution_count": null,
   "metadata": {},
   "outputs": [],
   "source": [
    "diabetes[\"resource_type\"] = \"Condition\""
   ]
  },
  {
   "cell_type": "code",
   "execution_count": null,
   "metadata": {},
   "outputs": [],
   "source": [
    "patient.update([diabetes], wrapped=False)"
   ]
  },
  {
   "cell_type": "markdown",
   "metadata": {},
   "source": [
    "Look at the record, the new data has been added."
   ]
  },
  {
   "cell_type": "code",
   "execution_count": null,
   "metadata": {},
   "outputs": [],
   "source": [
    "patient.record"
   ]
  },
  {
   "cell_type": "markdown",
   "metadata": {},
   "source": [
    "Look at the conditions table, diabetes is no longer active"
   ]
  },
  {
   "cell_type": "code",
   "execution_count": null,
   "metadata": {},
   "outputs": [],
   "source": [
    "patient.conditions"
   ]
  },
  {
   "cell_type": "markdown",
   "metadata": {},
   "source": [
    "The table has preserves unique (name, start) pair tuples. So we could try and add `underactive_thyroid` to the record. Since it's not in the record, it will get added there, but not change the conditions table. Again we first have to add in resource_type"
   ]
  },
  {
   "cell_type": "code",
   "execution_count": null,
   "metadata": {},
   "outputs": [],
   "source": [
    "underactive_thyroid[\"resource_type\"] = \"Condition\""
   ]
  },
  {
   "cell_type": "code",
   "execution_count": null,
   "metadata": {},
   "outputs": [],
   "source": [
    "patient.update([underactive_thyroid], wrapped=False)"
   ]
  },
  {
   "cell_type": "code",
   "execution_count": null,
   "metadata": {},
   "outputs": [],
   "source": [
    "patient.record"
   ]
  },
  {
   "cell_type": "code",
   "execution_count": null,
   "metadata": {},
   "outputs": [],
   "source": [
    "patient.conditions"
   ]
  },
  {
   "cell_type": "markdown",
   "metadata": {},
   "source": [
    "Note a patient conditons can also be initialised by supplying a dataframe"
   ]
  },
  {
   "cell_type": "code",
   "execution_count": null,
   "metadata": {},
   "outputs": [],
   "source": [
    "df = patient.conditions.copy(deep=True)"
   ]
  },
  {
   "cell_type": "code",
   "execution_count": null,
   "metadata": {},
   "outputs": [],
   "source": [
    "patient = PatientAgent(\n",
    "    patient_id=patient_id,\n",
    "    gender=gender,\n",
    "    birth_date=birth_date,\n",
    "    conditions=df,\n",
    ")"
   ]
  },
  {
   "cell_type": "code",
   "execution_count": null,
   "metadata": {},
   "outputs": [],
   "source": [
    "patient.conditions"
   ]
  },
  {
   "cell_type": "markdown",
   "metadata": {},
   "source": [
    "The actions and medications tables work similarly. Actions is triggered by FHIR resource types Appointment and ServiceRequest, whereas medications is triggered by MedicationRequest.\n",
    "\n",
    "The intelligence layer can act on active elements and the mark them as inactive by adding an end date to an entry. Currently a new entry has to be appended to the record to trigger changes in these tables. If the intelligence layer adds an \"end\" date to an exisitng record (without appending) then no change will be made to the table. This could be changed in a future version."
   ]
  },
  {
   "cell_type": "markdown",
   "metadata": {},
   "source": [
    "### Validating the patient record"
   ]
  },
  {
   "cell_type": "markdown",
   "metadata": {},
   "source": [
    "Every time `patient.update` is called, a list of new entries is added one by one to the exisiting record and two checks are made:\n",
    "- a check of whether the entry already exists in the record\n",
    "- a check of whether a relevant date is in the right order\n",
    "\n",
    "For the first check, there is an option to \"skip\" or \"add\" the duplicate enrty, and it controlled by the `skip_existing` flag.\n",
    "\n",
    "We know from above that `patient.profile.entry` is already in the record, we could try readding that, but it would fail because it is doesn't have `name` and `start` fields.\n",
    "\n",
    "Instead let's try to add diabetes twice"
   ]
  },
  {
   "cell_type": "code",
   "execution_count": null,
   "metadata": {},
   "outputs": [],
   "source": [
    "patient.update([diabetes], wrapped=False, skip_existing=False)"
   ]
  },
  {
   "cell_type": "code",
   "execution_count": null,
   "metadata": {},
   "outputs": [],
   "source": [
    "patient.record"
   ]
  },
  {
   "cell_type": "code",
   "execution_count": null,
   "metadata": {},
   "outputs": [],
   "source": [
    "patient.update([diabetes], wrapped=False, skip_existing=False)"
   ]
  },
  {
   "cell_type": "code",
   "execution_count": null,
   "metadata": {},
   "outputs": [],
   "source": [
    "patient.record"
   ]
  },
  {
   "cell_type": "markdown",
   "metadata": {},
   "source": [
    "Now if we skip existing"
   ]
  },
  {
   "cell_type": "code",
   "execution_count": null,
   "metadata": {},
   "outputs": [],
   "source": [
    "patient.update([diabetes], wrapped=False, skip_existing=True)"
   ]
  },
  {
   "cell_type": "code",
   "execution_count": null,
   "metadata": {},
   "outputs": [],
   "source": [
    "patient.record"
   ]
  },
  {
   "cell_type": "markdown",
   "metadata": {},
   "source": [
    "The whole time, the conditions table stayed as is"
   ]
  },
  {
   "cell_type": "code",
   "execution_count": null,
   "metadata": {},
   "outputs": [],
   "source": [
    "patient.conditions"
   ]
  },
  {
   "cell_type": "markdown",
   "metadata": {},
   "source": [
    "### Wrapping the entry"
   ]
  },
  {
   "cell_type": "markdown",
   "metadata": {},
   "source": [
    "Notice we've been using `wrapped=False` in the update method above. That's because, before adding to the patient record, an entry must be wrapped using the function `wrap_fhir_resource`. When `wrapped=False` it gets wrapped as"
   ]
  },
  {
   "cell_type": "code",
   "execution_count": null,
   "metadata": {},
   "outputs": [],
   "source": [
    "entry = diabetes"
   ]
  },
  {
   "cell_type": "code",
   "execution_count": null,
   "metadata": {},
   "outputs": [],
   "source": [
    "wrapped_entry = wrap_fhir_resource(\n",
    "    entry,\n",
    "    patient_time=entry[\"start\"] if entry.get(\"end\") is None else entry[\"end\"],                   \n",
    ")"
   ]
  },
  {
   "cell_type": "code",
   "execution_count": null,
   "metadata": {},
   "outputs": [],
   "source": [
    "wrapped_entry"
   ]
  },
  {
   "cell_type": "markdown",
   "metadata": {},
   "source": [
    "This then gets passes to the `PatientRecordEntry` class constructor."
   ]
  },
  {
   "cell_type": "markdown",
   "metadata": {},
   "source": [
    "### Simulation entries from the intelligence layer interactions"
   ]
  },
  {
   "cell_type": "markdown",
   "metadata": {},
   "source": [
    "In the simulation, it is expected that the interaction layer will generate the inner `entry` dictionaries, which look like `diabetes` or `underactive_thyroid`. The simulation then automatically wraps the entry before updating the patient record. Have a look at\n",
    "`patient_abm.simulation.run.update_patient_and_environment` to see how this wrapping is done."
   ]
  },
  {
   "cell_type": "markdown",
   "metadata": {},
   "source": [
    "### The internal record representation"
   ]
  },
  {
   "cell_type": "markdown",
   "metadata": {},
   "source": [
    "To save the user from writing raw FHIR, we have created an internal representation of FHIR resources, namely, the patient record (unwrapped) entries. These are dictionaries which must have three keys (as discussed above):\n",
    "- `name`\n",
    "- `start`\n",
    "- `resource_type`\n",
    "\n",
    "Other keys that can be used are the ones in the tables and they can be resource type dependent, e.g.\n",
    "- `end`\n",
    "- `code`\n",
    "\n",
    "etc.\n",
    "\n",
    "They get used when converting the patient record to FHIR, the conversion process can be seen in\n",
    "`patient_abm.data_handler.fhir.convert_patient_record_entry_to_fhir`. Currently conversion to / from the following FHIR resources is supported:\n",
    "- Patient\n",
    "- Encounter\n",
    "- Condition\n",
    "- Observation\n",
    "- Procedure\n",
    "- MedicationRequest\n",
    "- ServiceRequest\n",
    "- Appointment\n",
    "\n",
    "Within those, only certain fields are populated. What we have built so far is a very simplified version of this representation, must more complexity could be added in order to produce richer FHIR outputs, for example, more fields, data from environments, and linking between resources (e.g. link to encounter resource from other related resources). Further, the FHIR MedicationRequest doesn't have an obvious end date field, instead it could be calculaeted from the start date plus expected duration of the medication, given the `dispenseRequest.expectedSupplyDuration`."
   ]
  },
  {
   "cell_type": "code",
   "execution_count": null,
   "metadata": {},
   "outputs": [],
   "source": []
  },
  {
   "cell_type": "markdown",
   "metadata": {},
   "source": [
    "### Logging the patient state"
   ]
  },
  {
   "cell_type": "markdown",
   "metadata": {},
   "source": [
    "During the simulation, the patient state is written to the logger. The informaiton that's written is the output of the `log_state` method"
   ]
  },
  {
   "cell_type": "code",
   "execution_count": null,
   "metadata": {},
   "outputs": [],
   "source": [
    "patient.log_state(print_only=True)"
   ]
  },
  {
   "cell_type": "markdown",
   "metadata": {},
   "source": [
    "The n last record entries can also be logged"
   ]
  },
  {
   "cell_type": "code",
   "execution_count": null,
   "metadata": {},
   "outputs": [],
   "source": [
    "patient.log_state(print_only=True, log_last_n_record_entries=1)"
   ]
  },
  {
   "cell_type": "code",
   "execution_count": null,
   "metadata": {},
   "outputs": [],
   "source": []
  },
  {
   "cell_type": "markdown",
   "metadata": {},
   "source": [
    "### Converting patient record to FHIR bundle\n",
    "\n",
    "Can validate using offline method (the python `fhir.resources` library)"
   ]
  },
  {
   "cell_type": "code",
   "execution_count": null,
   "metadata": {},
   "outputs": [],
   "source": [
    "bundle = generate_patient_fhir_bundle(\n",
    "    patient,\n",
    "    validate=True,\n",
    "    server_url=None,\n",
    ")"
   ]
  },
  {
   "cell_type": "code",
   "execution_count": null,
   "metadata": {},
   "outputs": [],
   "source": [
    "bundle"
   ]
  },
  {
   "cell_type": "markdown",
   "metadata": {},
   "source": [
    "Or online by sending the data to the HAPI FHIR server"
   ]
  },
  {
   "cell_type": "code",
   "execution_count": null,
   "metadata": {},
   "outputs": [],
   "source": [
    "HAPI_FHIR_SERVER_4"
   ]
  },
  {
   "cell_type": "code",
   "execution_count": null,
   "metadata": {
    "scrolled": true
   },
   "outputs": [],
   "source": [
    "bundle = generate_patient_fhir_bundle(\n",
    "    patient,\n",
    "    validate=True,\n",
    "    server_url=HAPI_FHIR_SERVER_4,\n",
    ")"
   ]
  },
  {
   "cell_type": "markdown",
   "metadata": {},
   "source": [
    "The online method is far more stringent. There are cases where the offline library passes but the online version fails. A more robust mapping is left for future work."
   ]
  },
  {
   "cell_type": "code",
   "execution_count": null,
   "metadata": {},
   "outputs": [],
   "source": [
    "bundle"
   ]
  },
  {
   "cell_type": "markdown",
   "metadata": {},
   "source": [
    "### Initialising a patient from FHIR data"
   ]
  },
  {
   "cell_type": "markdown",
   "metadata": {},
   "source": [
    "We can initialize a patient from FHIR data. Suppose we wish to initialise the patient from the FHIR bundle we just created, we can do that by simply calling the `from_fhir` method"
   ]
  },
  {
   "cell_type": "code",
   "execution_count": null,
   "metadata": {},
   "outputs": [],
   "source": [
    "from patient_abm.data_handler.fhir import convert_fhir_to_patient_record_entry"
   ]
  },
  {
   "cell_type": "code",
   "execution_count": null,
   "metadata": {},
   "outputs": [],
   "source": [
    "patient_from_fhir = PatientAgent.from_fhir(\n",
    "    bundle,\n",
    "    resource_type=\"Bundle\",\n",
    "    patient_id=None,\n",
    "    start_time=None,\n",
    ")"
   ]
  },
  {
   "cell_type": "code",
   "execution_count": null,
   "metadata": {
    "scrolled": true
   },
   "outputs": [],
   "source": [
    "patient_from_fhir.record"
   ]
  },
  {
   "cell_type": "code",
   "execution_count": null,
   "metadata": {},
   "outputs": [],
   "source": [
    "patient_from_fhir.conditions"
   ]
  },
  {
   "cell_type": "markdown",
   "metadata": {},
   "source": [
    "In this way the PatientAgent could be initialised from collections of FHIR resources, such as PRSB core information standards profiles, or Care Connect profiles."
   ]
  },
  {
   "cell_type": "code",
   "execution_count": null,
   "metadata": {},
   "outputs": [],
   "source": []
  },
  {
   "cell_type": "markdown",
   "metadata": {},
   "source": [
    "# Save and load patient agent class"
   ]
  },
  {
   "cell_type": "markdown",
   "metadata": {},
   "source": [
    "Save and load patient agent class as tar file. Only `serialisable_attributes` are saved"
   ]
  },
  {
   "cell_type": "code",
   "execution_count": null,
   "metadata": {},
   "outputs": [],
   "source": [
    "# For now these are\n",
    "patient.serialisable_attributes"
   ]
  },
  {
   "cell_type": "code",
   "execution_count": null,
   "metadata": {},
   "outputs": [],
   "source": [
    "patient_file = PATIENT_ABM_DIR / \"notebooks\" / \"patient_agent.tar\"\n",
    "patient_file"
   ]
  },
  {
   "cell_type": "code",
   "execution_count": null,
   "metadata": {},
   "outputs": [],
   "source": [
    "patient.save(patient_file)"
   ]
  },
  {
   "cell_type": "code",
   "execution_count": null,
   "metadata": {},
   "outputs": [],
   "source": [
    "patient_ = PatientAgent.load(patient_file)"
   ]
  },
  {
   "cell_type": "code",
   "execution_count": null,
   "metadata": {},
   "outputs": [],
   "source": [
    "dfs = [\"conditions\", \"medications\", \"actions\"]\n",
    "\n",
    "for attr_name in PatientAgent.serialisable_attributes:\n",
    "    if attr_name in dfs:\n",
    "        assert (\n",
    "            getattr(patient, attr_name)\n",
    "            .fillna(\"n/a\")\n",
    "            .equals(getattr(patient_, attr_name).fillna(\"n/a\"))\n",
    "        )\n",
    "    else:\n",
    "        assert getattr(patient, attr_name) == getattr(patient_, attr_name)"
   ]
  },
  {
   "cell_type": "code",
   "execution_count": null,
   "metadata": {},
   "outputs": [],
   "source": []
  },
  {
   "cell_type": "code",
   "execution_count": null,
   "metadata": {},
   "outputs": [],
   "source": []
  }
 ],
 "metadata": {
  "kernelspec": {
   "name": "python3",
   "display_name": "Python 3.7.9 64-bit ('patient_abm-5')",
   "metadata": {
    "interpreter": {
     "hash": "eb86ee10fccc4cebc3e3b1c8c275df9d4de638e6bd2d187b679e0e77d4997aaa"
    }
   }
  },
  "language_info": {
   "codemirror_mode": {
    "name": "ipython",
    "version": 3
   },
   "file_extension": ".py",
   "mimetype": "text/x-python",
   "name": "python",
   "nbconvert_exporter": "python",
   "pygments_lexer": "ipython3",
   "version": "3.7.9-final"
  }
 },
 "nbformat": 4,
 "nbformat_minor": 2
}